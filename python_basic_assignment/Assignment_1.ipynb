{
 "cells": [
  {
   "cell_type": "markdown",
   "metadata": {},
   "source": [
    "1. What are the differences between operators and values in the following?\n",
    "*\n",
    "'hello'\n",
    "-87.8\n",
    "-\n",
    "/\n",
    "+\n",
    "6\n",
    "\n",
    "* - is a multiplication sysmbol.\n",
    "'hello' is a string data type with value hello.\n",
    "-87.8 is a negative decimal number.\n",
    "- is a negation symbol\n",
    "/ a division symbol in python. It does decimal division by default.\n",
    "+ is an addition symbol.\n",
    "6 is a interger 6.\n",
    "\n",
    "The operators are mathematical operators and the values are of different data types."
   ]
  },
  {
   "cell_type": "markdown",
   "metadata": {},
   "source": [
    "2. What is the difference between string and variable?\n",
    "spam\n",
    "'spam'\n",
    "\n",
    "string is a data type in python 3 whereas variable is a placeholder to store data. The placeholder internally \n",
    "refers to a memory location."
   ]
  },
  {
   "cell_type": "markdown",
   "metadata": {},
   "source": [
    "3. Describe three different data forms.\n",
    "\n",
    "int,string and bool are 3 data forms."
   ]
  },
  {
   "cell_type": "markdown",
   "metadata": {},
   "source": [
    "4. What makes up an expression? What are the functions of all expressions?\n",
    "\n",
    "Expressions only contain identifiers, literals and operators, where operators include arithmetic and boolean operators, and others.\n",
    "\n",
    "3 + 5\n",
    "10 > 5\n",
    "\n",
    "The expressions would ultimately yield a result. The comparaision operators would yield a boolean result whereas mathematical operators would yield a numerical result."
   ]
  },
  {
   "cell_type": "markdown",
   "metadata": {},
   "source": [
    "5. In this chapter, assignment statements such as spam = 10 were added. What's the difference between a declaration and an expression?\n",
    "\n",
    "A declaration states the variable name and the initial value it might hold. An expression on the other hand would contain identifiers, literals and operators which would yield a numerical or boolean value based on the operators used."
   ]
  },
  {
   "cell_type": "markdown",
   "metadata": {},
   "source": [
    "6. After running the following code, what does the variable bacon contain?\n",
    "bacon = 22\n",
    "bacon + 1\n",
    "\n",
    "The variable bacon would contain the value 22 given that the increment has not been rewritten into the bacon variable."
   ]
  },
  {
   "cell_type": "markdown",
   "metadata": {},
   "source": [
    "7. What should the values of the following two terms be?\n",
    "\n",
    "'spam' + 'spamspam' - spamspamspam\n",
    "'spam' * 3 - spamspamspam"
   ]
  },
  {
   "cell_type": "markdown",
   "metadata": {},
   "source": [
    "8. Why is it that eggs is a true variable name but 100 is not?\n",
    "Python prohibits numerical naming and allows english names or names with _ among others. So, eggs would be a valid variable name but 100 would be not."
   ]
  },
  {
   "cell_type": "code",
   "execution_count": 6,
   "metadata": {},
   "outputs": [
    {
     "data": {
      "text/plain": [
       "'spamspamspam'"
      ]
     },
     "execution_count": 6,
     "metadata": {},
     "output_type": "execute_result"
    }
   ],
   "source": [
    "9. Which of the following three functions may be used to convert a value to an integer, a floating-point number, or a string?\n",
    "This question is missing its corresponding options."
   ]
  },
  {
   "cell_type": "markdown",
   "metadata": {},
   "source": [
    "10. What is the error caused by this expression? What would you do about it?\n",
    "\n",
    "'I have eaten ' + 99 + ' burritos.'\n",
    "\n",
    "99 being a numeric type cannot be added to as string directly. The same has to be converted to string first. The modified expression would be below.\n",
    "'I have eaten ' + str(99) + ' burritos.' or\n",
    "'I have eaten 99 burritos.'"
   ]
  }
 ],
 "metadata": {
  "kernelspec": {
   "display_name": "Python 3",
   "language": "python",
   "name": "python3"
  },
  "language_info": {
   "codemirror_mode": {
    "name": "ipython",
    "version": 3
   },
   "file_extension": ".py",
   "mimetype": "text/x-python",
   "name": "python",
   "nbconvert_exporter": "python",
   "pygments_lexer": "ipython3",
   "version": "3.8.5"
  }
 },
 "nbformat": 4,
 "nbformat_minor": 4
}
