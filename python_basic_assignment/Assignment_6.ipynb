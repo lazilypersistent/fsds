{
 "cells": [
  {
   "cell_type": "markdown",
   "metadata": {},
   "source": [
    "1. What are escape characters, and how do you use them?\n",
    "escape characters have special meaning and perform special operations.We can use them by prefixing it with a \\.\n",
    "2. What do the escape characters n and t stand for?\n",
    "n will add a new line.\n",
    "t will add a new tab.\n",
    "3. What is the way to include backslash characters in a string?\n",
    "we can add the characters towards the end or the start of the string based on use case.\n",
    "4. The string \"Howl's Moving Castle\" is a correct value. Why isn't the single quote character in the word Howl's not escaped a problem?\n",
    "Since the whole sentence is covered with \", the use of single quotes will not pose a problem. The use of \" might need escaping though.\n",
    "5. How do you write a string of newlines if you don't want to use the n character?\n",
    "print() would add new lines without the use of \\n character. It does use \\n but the use is internal\n",
    "6. What are the values of the given expressions?\n",
    "'Hello, world!'[1]\n",
    "e\n",
    "'Hello, world!'[0:5]\n",
    "Hello\n",
    "'Hello, world!'[:5]\n",
    "Hello\n",
    "'Hello, world!'[3:]\n",
    "lo, world!\n",
    "7. What are the values of the following expressions?\n",
    "'Hello'.upper()\n",
    "HELLO\n",
    "'Hello'.upper().isupper()\n",
    "True\n",
    "'Hello'.upper().lower()\n",
    "hello\n",
    "8. What are the values of the following expressions?\n",
    "'Remember, remember, the fifth of July.'.split()\n",
    "['Remember,', 'remember,','the', 'fifth', 'of', 'July.']\n",
    "'-'.join('There can only one.'.split())\n",
    "There-can-only-one.\n",
    "9. What are the methods for right-justifying, left-justifying, and centering a string?\n",
    "rjust(), ljust(), center()\n",
    "10. What is the best way to remove whitespace characters from the start or end?\n",
    "strip()"
   ]
  }
 ],
 "metadata": {
  "kernelspec": {
   "display_name": "Python 3",
   "language": "python",
   "name": "python3"
  },
  "language_info": {
   "codemirror_mode": {
    "name": "ipython",
    "version": 3
   },
   "file_extension": ".py",
   "mimetype": "text/x-python",
   "name": "python",
   "nbconvert_exporter": "python",
   "pygments_lexer": "ipython3",
   "version": "3.8.5"
  }
 },
 "nbformat": 4,
 "nbformat_minor": 4
}
