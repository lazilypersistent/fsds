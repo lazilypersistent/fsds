{
 "cells": [
  {
   "cell_type": "markdown",
   "metadata": {},
   "source": [
    "1. Why are functions advantageous to have in your programs?\n",
    "Functions helps us maintain modular code and enhance reusability.Without functions the same operations\n",
    "would have to be rewritten again and again.\n",
    "2. When does the code in a function run: when it's specified or when it's called?\n",
    "The code in the function runs when it is called.\n",
    "3. What statement creates a function?\n",
    "def is the keyword use to define functions.\n",
    "4. What is the difference between a function and a function call?\n",
    "A function is the definition of the function whereas function call would be when a function is called for execution.\n",
    "5. How many global scopes are there in a Python program? How many local scopes?\n",
    "There is one global scope for the definition of global variables.Local scopes are used for local variable declaration.\n",
    "6. What happens to variables in a local scope when the function call returns?\n",
    "The local scope variabale gets destroyed when the function call returns.\n",
    "7. What is the concept of a return value? Is it possible to have a return value in an expression?\n",
    "The return value is the value returned from the function post the function execution.The return value would always be a value, we can use expressions but the end result of the expression is what will be returned.\n",
    "8. If a function does not have a return statement, what is the return value of a call to that function?\n",
    "There is no return value of the function in that situation or it returns \"None\" as a value.\n",
    "9. How do you make a function variable refer to the global variable?\n",
    "By using the variable name.\n",
    "10. What is the data type of None?\n",
    "NoneType\n",
    "11. What does the sentence import areallyourpetsnamederic do?\n",
    "It will import all the methods available inside the module and make it available for use in the module which imported it.\n",
    "12. If you had a bacon() feature in a spam module, what would you call it after importing spam?\n",
    "spam.bacon()\n",
    "13. What can you do to save a programme from crashing if it encounters an error?\n",
    "Use try, except\n",
    "14. What is the purpose of the try clause? What is the purpose of the except clause?\n",
    "try clause tries the operation and if error is thrown, navigates it to the corresponding except block.This helps from the application to not crash completely.\n",
    "Except clause catches the error from try block and handles it appropriately.\n"
   ]
  }
 ],
 "metadata": {
  "kernelspec": {
   "display_name": "Python 3",
   "language": "python",
   "name": "python3"
  },
  "language_info": {
   "codemirror_mode": {
    "name": "ipython",
    "version": 3
   },
   "file_extension": ".py",
   "mimetype": "text/x-python",
   "name": "python",
   "nbconvert_exporter": "python",
   "pygments_lexer": "ipython3",
   "version": "3.8.5"
  }
 },
 "nbformat": 4,
 "nbformat_minor": 4
}
