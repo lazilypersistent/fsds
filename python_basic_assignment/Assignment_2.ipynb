{
 "cells": [
  {
   "cell_type": "markdown",
   "metadata": {},
   "source": [
    "1. What are the Boolean data type's two values? How do you go about writing them?\n",
    "\n",
    "True and False. We assign True or False as a value to a variable. As an alternative operators can be used which yield boolean values.Examples:\n",
    "a = True\n",
    "if (9 > 5 )\n",
    "\n"
   ]
  },
  {
   "cell_type": "markdown",
   "metadata": {},
   "source": [
    "2. What are the three different types of Boolean operators?\n",
    "\n",
    "Three different type would be \n",
    "    == to check if two values are equal.\n",
    "    > to check if greater than\n",
    "    < to check if less than"
   ]
  },
  {
   "cell_type": "markdown",
   "metadata": {},
   "source": [
    "3. Make a list of each Boolean operator's truth tables (i.e. every possible combination of Boolean values for the operator and what it evaluate ).\n",
    "operator input1 input2 output\n",
    "and      True   True   True\n",
    "         False  True   False\n",
    "         True   False  False\n",
    "         False  False  False\n",
    "\n",
    "or       True   True    True\n",
    "         False True     True\n",
    "         True   False   True\n",
    "         False  False   False\n",
    "         \n",
    "not             False   True\n",
    "                True    False\n"
   ]
  },
  {
   "cell_type": "markdown",
   "metadata": {},
   "source": [
    "4. What are the values of the following expressions?\n",
    "\n",
    "(5 > 4) and (3 == 5) - False\n",
    "not (5 > 4) - False\n",
    "(5 > 4) or (3 == 5) - False\n",
    "not ((5 > 4) or (3 == 5)) - True\n",
    "(True and True) and (True == False) - False\n",
    "(not False) or (not True) - True"
   ]
  },
  {
   "cell_type": "markdown",
   "metadata": {},
   "source": [
    "What are the six different types of reference operators?\n",
    "> - greator than symbol, evaluates to true or false\n",
    "< - lesser than symbol, evaluates to true or false\n",
    "== - equalto operator, evaluates to true or false\n",
    ">= - greater than equal to, evaluates to true or false\n",
    "<= - lesser than equal to, evaluates to true or false\n",
    "!= - not equal to, evaluates to true or false"
   ]
  },
  {
   "cell_type": "markdown",
   "metadata": {},
   "source": [
    "6. How do you tell the difference between the equal to and assignment operators?\n",
    "assignment operator uses single = whereas equal to operator uses =="
   ]
  },
  {
   "cell_type": "markdown",
   "metadata": {},
   "source": [
    "7. Describe a condition and when you would use one.\n",
    "str = 'Kaushal' - use of assignment operator\n",
    "if str == 'Kaushal' - use of equal to operator"
   ]
  },
  {
   "cell_type": "markdown",
   "metadata": {},
   "source": [
    "8. Recognize the following three blocks in this code:\n",
    "\n",
    "spam = 0\n",
    "if spam == 10:\n",
    "    print('eggs')\n",
    "    if spam > 5:\n",
    "        print('bacon')\n",
    "    else:\n",
    "        print('ham')\n",
    "    print('spam')\n",
    "print('spam')\n",
    "\n",
    "\n",
    "if spam == 10 is the first block.\n",
    "if spam > 5 is the second block.\n",
    "else attached to if spam > 5 is the third block."
   ]
  },
  {
   "cell_type": "code",
   "execution_count": null,
   "metadata": {},
   "outputs": [],
   "source": [
    "# 9. Create a programme that prints. If 1 is stored in spam, prints Hello; if 2 is stored in spam, prints Howdy; and if 3 is stored in spam, prints Salutations! if there's something else in spam.\n",
    "\n",
    "spam = int(input(\"enter a number :\" ))\n",
    "if spam == 1:\n",
    "    print(\"Hello\")\n",
    "elif spam == 2:\n",
    "    print(\"Howdy\")\n",
    "elif spam == 3:\n",
    "    print(\"Salutations!\")\n",
    "else:\n",
    "    print(\"Abra ka Dabra\")\n",
    "\n",
    "\n"
   ]
  },
  {
   "cell_type": "markdown",
   "metadata": {},
   "source": [
    "10.If your programme is stuck in an endless loop, what keys can you press?\n",
    "\n",
    "-Interrupt the kernel option in jupyter notebook."
   ]
  },
  {
   "cell_type": "markdown",
   "metadata": {},
   "source": [
    "11. How can you tell the difference between break and continue?\n",
    "\n",
    "-Break would stop the execution of the iterable whereas continue would continue without executing the statements after continue."
   ]
  },
  {
   "cell_type": "markdown",
   "metadata": {},
   "source": [
    "12. In a for loop, what is the difference between range(10), range(0, 10), and range(0, 10, 1)?\n",
    "\n",
    "-Functionally all would behave the same as one iternally implies the other.\n",
    "range(10) means an iteration from 0 to 10 with step of 1.\n",
    "range(0, 10) means an iteration from 0 to 10 with step of 1.\n",
    "range(0, 10, 1) means an iteration from 0 to 10 with step of 1."
   ]
  },
  {
   "cell_type": "code",
   "execution_count": null,
   "metadata": {},
   "outputs": [],
   "source": [
    "# <!-- 13. Using a for loop, write a short programme that prints the numbers 1 to 10 Then, using a while loop, create an identical programme that prints the numbers 1 to 10. -->\n",
    "\n",
    "for i in range(10):\n",
    "    print(i + 1)\n",
    "\n",
    "print()\n",
    "i = 0\n",
    "while i < 10 :\n",
    "    print(i + 1)\n",
    "    i += 1;"
   ]
  },
  {
   "cell_type": "markdown",
   "metadata": {},
   "source": [
    "14. If you had a bacon() function within a spam module, how  would you call it after importing spam?\n",
    "\n",
    "-Yet to rach this topic."
   ]
  }
 ],
 "metadata": {
  "kernelspec": {
   "display_name": "Python 3",
   "language": "python",
   "name": "python3"
  },
  "language_info": {
   "codemirror_mode": {
    "name": "ipython",
    "version": 3
   },
   "file_extension": ".py",
   "mimetype": "text/x-python",
   "name": "python",
   "nbconvert_exporter": "python",
   "pygments_lexer": "ipython3",
   "version": "3.8.5"
  }
 },
 "nbformat": 4,
 "nbformat_minor": 4
}
