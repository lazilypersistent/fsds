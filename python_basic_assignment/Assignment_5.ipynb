{
 "cells": [
  {
   "cell_type": "markdown",
   "metadata": {},
   "source": [
    "1. What does an empty dictionary's code look like?\n",
    "{}\n",
    "2. What is the value of a dictionary value with the key 'foo' and the value 42?\n",
    "42\n",
    "3. What is the most significant distinction between a dictionary and a list?\n",
    "dictionary is a key value pair whereas list is a collection of objects\n",
    "4. What happens if you try to access spam['foo'] if spam is {'bar': 100}?\n",
    "it throws KeyError\n",
    "5. If a dictionary is stored in spam, what is the difference between the expressions 'cat' in spam and 'cat' in spam.keys()?\n",
    "'cat' in spam would search for 'cat' as key in the dictionary spam.\n",
    "'cat' in spam.keys() would search for the cat in keys of dictionary spam.\n",
    "6. If a dictionary is stored in spam, what is the difference between the expressions 'cat' in spam and 'cat' in spam.values()?\n",
    "'cat' in spam would search for 'cat' as key in the dictionary spam.\n",
    "'cat' in spam.values() would search for the cat in values of dictionary spam.\n",
    "7. What is a shortcut for the following code?\n",
    "if 'color' not in spam:\n",
    "spam['color'] = 'black'\n",
    "-question not clear\n",
    "\n",
    "8. How do you \"pretty print\" dictionary values using which module and function?\n",
    "'pprint' module and pprint() function inside the module helps us achieve this."
   ]
  }
 ],
 "metadata": {
  "kernelspec": {
   "display_name": "Python 3",
   "language": "python",
   "name": "python3"
  },
  "language_info": {
   "codemirror_mode": {
    "name": "ipython",
    "version": 3
   },
   "file_extension": ".py",
   "mimetype": "text/x-python",
   "name": "python",
   "nbconvert_exporter": "python",
   "pygments_lexer": "ipython3",
   "version": "3.8.5"
  }
 },
 "nbformat": 4,
 "nbformat_minor": 4
}
