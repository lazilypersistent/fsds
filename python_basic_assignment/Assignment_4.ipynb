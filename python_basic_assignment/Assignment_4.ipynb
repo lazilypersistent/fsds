{
 "cells": [
  {
   "cell_type": "markdown",
   "metadata": {},
   "source": [
    "1. What exactly is []?\n",
    "It is used to define the list.\n",
    "2. In a list of values stored in a variable called spam, how would you assign the value 'hello' as the third value? (Assume [2, 4, 6, 8, 10] are in spam.)\n",
    "spam.insert(2,'hello')\n",
    "Let's pretend the spam includes the list ['a', 'b', 'c', 'd'] for the next three queries.\n",
    "3. What is the value of spam[int(int('3' * 2) / 11)]?\n",
    "'d'\n",
    "4. What is the value of spam[-1]?\n",
    "'d'\n",
    "5. What is the value of spam[:2]?\n",
    "['a','b']\n",
    "Let's pretend bacon has the list [3.14, 'cat,' 11, 'cat,' True] for the next three questions.\n",
    "The above list definition will give compile time error.Correcting it ot[3.14,'cat',11,'cat',True]\n",
    "6. What is the value of bacon.index('cat')?\n",
    "1\n",
    "7. How does bacon.append(99) change the look of the list value in bacon?\n",
    "The list would become : [3.14, 'cat', 11, 'cat', True, 99]\n",
    "8. How does bacon.remove('cat') change the look of the list in bacon?\n",
    "The list would become: [3.14, 11, 'cat', True, 99]\n",
    "9. What are the list concatenation and list replication operators?\n",
    "list concatenation operator : +\n",
    "list replication operator: *\n",
    "10. What is difference between the list methods append() and insert()?\n",
    "append() would insert towards the end of the list whereas insert() would insert at the defined position\n",
    "11. What are the two methods for removing items from a list?\n",
    "pop() and remove()\n",
    "12. Describe how list values and string values are identical.\n",
    "both support slicing.\n",
    "both support index based read operation\n",
    "both support concatenation operation with + operator\n",
    "both support replication operation with * operator\n",
    "13. What's the difference between tuples and lists?\n",
    "tuples are immutable whereas lists are mutable\n",
    "14. How do you type a tuple value that only contains the integer 42?\n",
    "a = (42,)\n",
    "15. How do you get a list value's tuple form? How do you get a tuple value's list form?\n",
    "a = (2,3,4,6,7)\n",
    "b = [2,6,5,3,6]\n",
    "To convert a tuple to a list: list(a)\n",
    "To convert a list to a tuple: tuple(b)\n",
    "16. Variables that \"contain\" list values are not necessarily lists themselves. Instead, what do they contain?\n",
    "they can contain a mixed set of values\n",
    "17. How do you distinguish between copy.copy() and copy.deepcopy()?\n",
    "copy does a shallow copy which would mean that the change of the copied variable would result in \n",
    "the change of the original variable values.\n",
    "deepcopy does a deepcopy which would mean that the change change in the copied variable wouldn't affect\n",
    "the original variable."
   ]
  },
  {
   "cell_type": "code",
   "execution_count": 21,
   "metadata": {},
   "outputs": [
    {
     "name": "stdout",
     "output_type": "stream",
     "text": [
      "[2, 3, 4, 5, 6]\n",
      "(2, 3, 1, 6, 3, 7)\n"
     ]
    }
   ],
   "source": [
    "a = (2,3,4,5,6)\n",
    "b= [2,3,1,6,3,7]\n",
    "print(list(a))\n",
    "print(tuple(b))"
   ]
  }
 ],
 "metadata": {
  "kernelspec": {
   "display_name": "Python 3",
   "language": "python",
   "name": "python3"
  },
  "language_info": {
   "codemirror_mode": {
    "name": "ipython",
    "version": 3
   },
   "file_extension": ".py",
   "mimetype": "text/x-python",
   "name": "python",
   "nbconvert_exporter": "python",
   "pygments_lexer": "ipython3",
   "version": "3.8.5"
  }
 },
 "nbformat": 4,
 "nbformat_minor": 4
}
