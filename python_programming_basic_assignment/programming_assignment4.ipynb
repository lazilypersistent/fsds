{
 "cells": [
  {
   "cell_type": "markdown",
   "metadata": {},
   "source": [
    "    1. Write a Python Program to Find the Factorial of a Number?\n",
    "    2. Write a Python Program to Display the multiplication Table?\n",
    "    3. Write a Python Program to Print the Fibonacci sequence?\n",
    "    4. Write a Python Program to Check Armstrong Number?\n",
    "    5. Write a Python Program to Find Armstrong Number in an Interval?\n",
    "    6. Write a Python Program to Find the Sum of Natural Numbers?"
   ]
  },
  {
   "cell_type": "code",
   "execution_count": 7,
   "metadata": {},
   "outputs": [
    {
     "name": "stdout",
     "output_type": "stream",
     "text": [
      "Please enter an input number:6\n",
      "The factorial for the number is 720\n"
     ]
    }
   ],
   "source": [
    "#    1. Write a Python Program to Find the Factorial of a Number?\n",
    "\n",
    "num = int(input(\"Please enter an input number:\"))\n",
    "fact_num = 1;\n",
    "if num == 0 or num == 1:\n",
    "    print(\"The factorial for the number {} is 1\".format(num))\n",
    "else:\n",
    "    while num >= 1:\n",
    "        fact_num = fact_num * num;\n",
    "        num = num - 1\n",
    "    print(\"The factorial for the number is {}\".format(fact_num))\n",
    "\n",
    "    "
   ]
  },
  {
   "cell_type": "code",
   "execution_count": 9,
   "metadata": {},
   "outputs": [
    {
     "name": "stdout",
     "output_type": "stream",
     "text": [
      "Please enter an input number:5\n",
      "5 * 1 = 5\n",
      "5 * 2 = 10\n",
      "5 * 3 = 15\n",
      "5 * 4 = 20\n",
      "5 * 5 = 25\n",
      "5 * 6 = 30\n",
      "5 * 7 = 35\n",
      "5 * 8 = 40\n",
      "5 * 9 = 45\n",
      "5 * 10 = 50\n"
     ]
    }
   ],
   "source": [
    "#    2. Write a Python Program to Display the multiplication Table?\n",
    "num = int(input(\"Please enter an input number:\"))\n",
    "\n",
    "for i in range(1,11):\n",
    "    print(f'{num} * {i} = {num * i}')\n"
   ]
  },
  {
   "cell_type": "code",
   "execution_count": 14,
   "metadata": {},
   "outputs": [
    {
     "name": "stdout",
     "output_type": "stream",
     "text": [
      "Please enter an input number:5\n",
      "0 1 1 2 3 "
     ]
    }
   ],
   "source": [
    "#    3. Write a Python Program to Print the Fibonacci sequence?\n",
    "num = int(input(\"Please enter an input number:\"))\n",
    "\n",
    "base_num_1 = 0\n",
    "base_num_2 = 1\n",
    "print(base_num_1, end=\" \")\n",
    "print(base_num_2, end=\" \")\n",
    "i = 2\n",
    "while i < num:\n",
    "    next_fib_num = base_num_1 + base_num_2\n",
    "    print(f'{next_fib_num}', end=\" \")\n",
    "    base_num_1 = base_num_2\n",
    "    base_num_2 = next_fib_num\n",
    "    i = i + 1\n",
    "    "
   ]
  },
  {
   "cell_type": "code",
   "execution_count": 34,
   "metadata": {},
   "outputs": [
    {
     "name": "stdout",
     "output_type": "stream",
     "text": [
      "Please enter a three digit number:9\n",
      "0 1 9 0\n",
      "The number 9 is an Armstrong number\n"
     ]
    }
   ],
   "source": [
    "#    4. Write a Python Program to Check Armstrong Number?\n",
    "num = int(input(\"Please enter a the number:\"))\n",
    "len_num = len(str(num))\n",
    "temp_num = num\n",
    "armstrong_number = 0\n",
    "i = 0\n",
    "while i < len_num:\n",
    "    armstrong_number = armstrong_number + (temp_num % 10) ** len_num\n",
    "    temp_num = temp_num // 10\n",
    "#     print(i, len_num, armstrong_number, temp_num)\n",
    "    i= i + 1\n",
    "    \n",
    "if num == armstrong_number:\n",
    "    print(f'The number {num} is an Armstrong number')\n",
    "else:\n",
    "    print(f'The number {num} is not an Armstrong number')\n",
    "    "
   ]
  },
  {
   "cell_type": "code",
   "execution_count": 39,
   "metadata": {},
   "outputs": [
    {
     "name": "stdout",
     "output_type": "stream",
     "text": [
      "Please enter the interval0 999\n",
      "0 999\n",
      "0 1 2 3 4 5 6 7 8 9 153 370 371 407 "
     ]
    }
   ],
   "source": [
    "#    5. Write a Python Program to Find Armstrong Number in an Interval?\n",
    "start, finish = map(int,input(\"Please enter the interval\").split())\n",
    "print(start, finish)\n",
    "for num in range(start, finish + 1):\n",
    "    len_num = len(str(num))\n",
    "    temp_num = num\n",
    "    armstrong_number = 0\n",
    "    i = 0\n",
    "    while i < len_num:\n",
    "        armstrong_number = armstrong_number + (temp_num % 10) ** len_num\n",
    "        temp_num = temp_num // 10\n",
    "#         print(i, len_num, armstrong_number, temp_num)\n",
    "        i= i + 1\n",
    "\n",
    "    if num == armstrong_number:\n",
    "        print(f'{num}', end=\" \")"
   ]
  },
  {
   "cell_type": "code",
   "execution_count": 47,
   "metadata": {},
   "outputs": [
    {
     "name": "stdout",
     "output_type": "stream",
     "text": [
      "Please enter a the number:5\n",
      "The summation of all natural numbers till 5 without using sum method is 15\n",
      "The summation of all natural numbers till 5 by using the sum method is 15\n"
     ]
    }
   ],
   "source": [
    "#    6. Write a Python Program to Find the Sum of Natural Numbers?\n",
    "num = int(input(\"Please enter a the number:\"))\n",
    "temp_num = num\n",
    "sum_natural_num = 0\n",
    "while temp_num > 0:\n",
    "    sum_natural_num = sum_natural_num + temp_num\n",
    "    temp_num = temp_num -1\n",
    "\n",
    "print(f'The summation of all natural numbers till {num} without using sum method is {sum_natural_num}')\n",
    "\n",
    "sum_natural_num = sum(range(num + 1))\n",
    "print(f'The summation of all natural numbers till {num} by using the sum method is {sum_natural_num}')"
   ]
  }
 ],
 "metadata": {
  "kernelspec": {
   "display_name": "Python 3",
   "language": "python",
   "name": "python3"
  },
  "language_info": {
   "codemirror_mode": {
    "name": "ipython",
    "version": 3
   },
   "file_extension": ".py",
   "mimetype": "text/x-python",
   "name": "python",
   "nbconvert_exporter": "python",
   "pygments_lexer": "ipython3",
   "version": "3.8.5"
  }
 },
 "nbformat": 4,
 "nbformat_minor": 4
}
