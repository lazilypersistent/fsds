{
 "cells": [
  {
   "cell_type": "markdown",
   "metadata": {},
   "source": [
    "    1. Write a Python program to convert kilometers to miles?\n",
    "    2. Write a Python program to convert Celsius to Fahrenheit?\n",
    "    3. Write a Python program to display calendar?\n",
    "    4. Write a Python program to solve quadratic equation?\n",
    "    5. Write a Python program to swap two variables without temp variable?"
   ]
  },
  {
   "cell_type": "code",
   "execution_count": 3,
   "metadata": {},
   "outputs": [
    {
     "name": "stdout",
     "output_type": "stream",
     "text": [
      "Please input the km:56.5678\n",
      "35.149533886\n"
     ]
    }
   ],
   "source": [
    "#convert kilometers to miles\n",
    "#float will accept numerical with decimal as well as without decimal\n",
    "input_km= float(input('Please input the km:'))\n",
    "km_to_miles = 0.62137\n",
    "print(input_km * km_to_miles)"
   ]
  },
  {
   "cell_type": "code",
   "execution_count": 6,
   "metadata": {},
   "outputs": [
    {
     "name": "stdout",
     "output_type": "stream",
     "text": [
      "Please input the celcius value:5\n",
      "41.0\n"
     ]
    }
   ],
   "source": [
    "#convert celcius to fahrenhrit\n",
    "input_cel = float(input('Please input the celcius value:'))\n",
    "cel_to_fah = (input_cel * (9/5)) + 32\n",
    "print(cel_to_fah)"
   ]
  },
  {
   "cell_type": "code",
   "execution_count": 14,
   "metadata": {},
   "outputs": [
    {
     "data": {
      "text/plain": [
       "'                                  2021\\n\\n      January                   February                   March\\nMo Tu We Th Fr Sa Su      Mo Tu We Th Fr Sa Su      Mo Tu We Th Fr Sa Su\\n             1  2  3       1  2  3  4  5  6  7       1  2  3  4  5  6  7\\n 4  5  6  7  8  9 10       8  9 10 11 12 13 14       8  9 10 11 12 13 14\\n11 12 13 14 15 16 17      15 16 17 18 19 20 21      15 16 17 18 19 20 21\\n18 19 20 21 22 23 24      22 23 24 25 26 27 28      22 23 24 25 26 27 28\\n25 26 27 28 29 30 31                                29 30 31\\n\\n       April                      May                       June\\nMo Tu We Th Fr Sa Su      Mo Tu We Th Fr Sa Su      Mo Tu We Th Fr Sa Su\\n          1  2  3  4                      1  2          1  2  3  4  5  6\\n 5  6  7  8  9 10 11       3  4  5  6  7  8  9       7  8  9 10 11 12 13\\n12 13 14 15 16 17 18      10 11 12 13 14 15 16      14 15 16 17 18 19 20\\n19 20 21 22 23 24 25      17 18 19 20 21 22 23      21 22 23 24 25 26 27\\n26 27 28 29 30            24 25 26 27 28 29 30      28 29 30\\n                          31\\n\\n        July                     August                  September\\nMo Tu We Th Fr Sa Su      Mo Tu We Th Fr Sa Su      Mo Tu We Th Fr Sa Su\\n          1  2  3  4                         1             1  2  3  4  5\\n 5  6  7  8  9 10 11       2  3  4  5  6  7  8       6  7  8  9 10 11 12\\n12 13 14 15 16 17 18       9 10 11 12 13 14 15      13 14 15 16 17 18 19\\n19 20 21 22 23 24 25      16 17 18 19 20 21 22      20 21 22 23 24 25 26\\n26 27 28 29 30 31         23 24 25 26 27 28 29      27 28 29 30\\n                          30 31\\n\\n      October                   November                  December\\nMo Tu We Th Fr Sa Su      Mo Tu We Th Fr Sa Su      Mo Tu We Th Fr Sa Su\\n             1  2  3       1  2  3  4  5  6  7             1  2  3  4  5\\n 4  5  6  7  8  9 10       8  9 10 11 12 13 14       6  7  8  9 10 11 12\\n11 12 13 14 15 16 17      15 16 17 18 19 20 21      13 14 15 16 17 18 19\\n18 19 20 21 22 23 24      22 23 24 25 26 27 28      20 21 22 23 24 25 26\\n25 26 27 28 29 30 31      29 30                     27 28 29 30 31\\n'"
      ]
     },
     "execution_count": 14,
     "metadata": {},
     "output_type": "execute_result"
    }
   ],
   "source": [
    "#display calendar\n",
    "import calendar\n",
    "calendar.calendar(2021)\n"
   ]
  },
  {
   "cell_type": "code",
   "execution_count": 9,
   "metadata": {},
   "outputs": [
    {
     "name": "stdout",
     "output_type": "stream",
     "text": [
      "please enter the coefficients for the quadratic equation : 0 0 0\n",
      "input is 0 0 0\n",
      "not a valid quadratic equation. The coefficient must be greater than 0\n"
     ]
    }
   ],
   "source": [
    "#solve quadratic equatiion\n",
    "import math\n",
    "\n",
    "#receving the coefficients\n",
    "a,b,c= list(map(int, input(\"Please enter the coefficients for the quadratic equation serially: \").split()))\n",
    "print(\"input is {} {} {}\".format(a,b,c))\n",
    "if a == 0:\n",
    "    print(\"Not a valid quadratic equation. The coefficient of x squared must be greater than 0\")\n",
    "else:\n",
    "    discriminant = b * b - 4 * a * c\n",
    "    print(\"The discriminant value is {}\".format(discriminant))\n",
    "    sqrt_discri = math.sqrt(abs(discriminant))\n",
    "    print(\"The square root of discriminant is {}\".format(sqrt_discri))\n",
    "    if discriminant > 0:\n",
    "        print(\"The roots are real and different as below\\n\")\n",
    "        print(\"Root 1:\", (-b + sqrt_discri)/(2 * a))\n",
    "        print(\"Root 2:\", (-b - sqrt_discri)/(2 * a))\n",
    "        print(\"\\n\")\n",
    "    elif discriminant == 0:\n",
    "        print(\"The roots are real and same as below\\n\")\n",
    "        print(\"Root 1 and 2:\", -b /(2 * a))\n",
    "        print(\"\\n\")\n",
    "    else:\n",
    "        print(\"The roots are real and imaginary as below\\n\")\n",
    "        print(\"Root 1 : (-{} + j{})/2 * {}\".format(b,sqrt_discri,a))\n",
    "        print(\"Root 2 : (-{} - j{})/2 * {}\".format(b,sqrt_discri,a))\n",
    "        print(\"\\n\")"
   ]
  },
  {
   "cell_type": "code",
   "execution_count": 17,
   "metadata": {},
   "outputs": [
    {
     "name": "stdout",
     "output_type": "stream",
     "text": [
      "9 6\n"
     ]
    }
   ],
   "source": [
    "# 5. Write a Python program to swap two variables without temp variable?\n",
    "a, b = 6,9\n",
    "b,a = a,b\n",
    "print(a,b)"
   ]
  }
 ],
 "metadata": {
  "kernelspec": {
   "display_name": "Python 3",
   "language": "python",
   "name": "python3"
  },
  "language_info": {
   "codemirror_mode": {
    "name": "ipython",
    "version": 3
   },
   "file_extension": ".py",
   "mimetype": "text/x-python",
   "name": "python",
   "nbconvert_exporter": "python",
   "pygments_lexer": "ipython3",
   "version": "3.8.5"
  }
 },
 "nbformat": 4,
 "nbformat_minor": 4
}
